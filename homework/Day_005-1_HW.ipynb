{
  "nbformat": 4,
  "nbformat_minor": 0,
  "metadata": {
    "kernelspec": {
      "display_name": "Python 3",
      "language": "python",
      "name": "python3"
    },
    "language_info": {
      "codemirror_mode": {
        "name": "ipython",
        "version": 3
      },
      "file_extension": ".py",
      "mimetype": "text/x-python",
      "name": "python",
      "nbconvert_exporter": "python",
      "pygments_lexer": "ipython3",
      "version": "3.6.1"
    },
    "colab": {
      "name": "Day_005-1_HW.ipynb",
      "provenance": []
    }
  },
  "cells": [
    {
      "cell_type": "markdown",
      "metadata": {
        "id": "sMWuk65-fG_9",
        "colab_type": "text"
      },
      "source": [
        "# [作業目標]\n",
        "- 利用範例的創建方式, 創建一組資料, 並練習如何取出最大值"
      ]
    },
    {
      "cell_type": "markdown",
      "metadata": {
        "id": "RZEoQ4zxfG__",
        "colab_type": "text"
      },
      "source": [
        "# [作業重點]\n",
        "- 練習創立 DataFrame (In[2])\n",
        "- 如何取出口數最多的國家 (In[3], Out[3])"
      ]
    },
    {
      "cell_type": "markdown",
      "metadata": {
        "id": "bwcRyBE7fHAA",
        "colab_type": "text"
      },
      "source": [
        "## 練習時間\n",
        "在小量的資料上，我們用眼睛就可以看得出來程式碼是否有跑出我們理想中的結果\n",
        "\n",
        "請嘗試想像一個你需要的資料結構 (裡面的值可以是隨機的)，然後用上述的方法把它變成 pandas DataFrame\n",
        "\n",
        "#### Ex: 想像一個 dataframe 有兩個欄位，一個是國家，一個是人口，求人口數最多的國家\n",
        "\n",
        "### Hints: [隨機產生數值](https://blog.csdn.net/christianashannon/article/details/78867204)"
      ]
    },
    {
      "cell_type": "code",
      "metadata": {
        "id": "oIiCsgDKfHAD",
        "colab_type": "code",
        "colab": {}
      },
      "source": [
        "import pandas as pd\n",
        "import numpy as np"
      ],
      "execution_count": 0,
      "outputs": []
    },
    {
      "cell_type": "code",
      "metadata": {
        "id": "GNMvkPMtfHAI",
        "colab_type": "code",
        "colab": {
          "base_uri": "https://localhost:8080/",
          "height": 173
        },
        "outputId": "ec030c9b-9125-4f8b-99cb-6e6ffcfde729"
      },
      "source": [
        "data = {'國家': ['中國','美國','印度'],\n",
        "        '人口': np.random.randint(9999999999,size=3)}\n",
        "data = pd.DataFrame(data)\n",
        "data = data.set_index('國家')\n",
        "data"
      ],
      "execution_count": 2,
      "outputs": [
        {
          "output_type": "execute_result",
          "data": {
            "text/html": [
              "<div>\n",
              "<style scoped>\n",
              "    .dataframe tbody tr th:only-of-type {\n",
              "        vertical-align: middle;\n",
              "    }\n",
              "\n",
              "    .dataframe tbody tr th {\n",
              "        vertical-align: top;\n",
              "    }\n",
              "\n",
              "    .dataframe thead th {\n",
              "        text-align: right;\n",
              "    }\n",
              "</style>\n",
              "<table border=\"1\" class=\"dataframe\">\n",
              "  <thead>\n",
              "    <tr style=\"text-align: right;\">\n",
              "      <th></th>\n",
              "      <th>人口</th>\n",
              "    </tr>\n",
              "    <tr>\n",
              "      <th>國家</th>\n",
              "      <th></th>\n",
              "    </tr>\n",
              "  </thead>\n",
              "  <tbody>\n",
              "    <tr>\n",
              "      <th>中國</th>\n",
              "      <td>3627445472</td>\n",
              "    </tr>\n",
              "    <tr>\n",
              "      <th>美國</th>\n",
              "      <td>5356920351</td>\n",
              "    </tr>\n",
              "    <tr>\n",
              "      <th>印度</th>\n",
              "      <td>7282204105</td>\n",
              "    </tr>\n",
              "  </tbody>\n",
              "</table>\n",
              "</div>"
            ],
            "text/plain": [
              "            人口\n",
              "國家            \n",
              "中國  3627445472\n",
              "美國  5356920351\n",
              "印度  7282204105"
            ]
          },
          "metadata": {
            "tags": []
          },
          "execution_count": 2
        }
      ]
    },
    {
      "cell_type": "code",
      "metadata": {
        "id": "iUa_XkTgfHAL",
        "colab_type": "code",
        "colab": {
          "base_uri": "https://localhost:8080/",
          "height": 111
        },
        "outputId": "f4365228-4dfb-4a37-c99b-bff91e00b09b"
      },
      "source": [
        "data.loc[data.idxmax(0)]"
      ],
      "execution_count": 3,
      "outputs": [
        {
          "output_type": "execute_result",
          "data": {
            "text/html": [
              "<div>\n",
              "<style scoped>\n",
              "    .dataframe tbody tr th:only-of-type {\n",
              "        vertical-align: middle;\n",
              "    }\n",
              "\n",
              "    .dataframe tbody tr th {\n",
              "        vertical-align: top;\n",
              "    }\n",
              "\n",
              "    .dataframe thead th {\n",
              "        text-align: right;\n",
              "    }\n",
              "</style>\n",
              "<table border=\"1\" class=\"dataframe\">\n",
              "  <thead>\n",
              "    <tr style=\"text-align: right;\">\n",
              "      <th></th>\n",
              "      <th>人口</th>\n",
              "    </tr>\n",
              "    <tr>\n",
              "      <th>國家</th>\n",
              "      <th></th>\n",
              "    </tr>\n",
              "  </thead>\n",
              "  <tbody>\n",
              "    <tr>\n",
              "      <th>印度</th>\n",
              "      <td>7282204105</td>\n",
              "    </tr>\n",
              "  </tbody>\n",
              "</table>\n",
              "</div>"
            ],
            "text/plain": [
              "            人口\n",
              "國家            \n",
              "印度  7282204105"
            ]
          },
          "metadata": {
            "tags": []
          },
          "execution_count": 3
        }
      ]
    }
  ]
}