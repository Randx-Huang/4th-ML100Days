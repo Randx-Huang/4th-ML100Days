{
  "nbformat": 4,
  "nbformat_minor": 0,
  "metadata": {
    "kernelspec": {
      "display_name": "Python 3",
      "language": "python",
      "name": "python3"
    },
    "language_info": {
      "codemirror_mode": {
        "name": "ipython",
        "version": 3
      },
      "file_extension": ".py",
      "mimetype": "text/x-python",
      "name": "python",
      "nbconvert_exporter": "python",
      "pygments_lexer": "ipython3",
      "version": "3.6.6"
    },
    "colab": {
      "name": "Day_002_HW.ipynb",
      "provenance": []
    }
  },
  "cells": [
    {
      "cell_type": "markdown",
      "metadata": {
        "id": "cxrPQKRuttjb",
        "colab_type": "text"
      },
      "source": [
        "## [作業目標]\n",
        "了解機器學習適合應用的領域與範疇。"
      ]
    },
    {
      "cell_type": "markdown",
      "metadata": {
        "id": "EgiuCmJTttji",
        "colab_type": "text"
      },
      "source": [
        "## [作業重點]\n",
        "透過瞭解機器學習的運作方式，找出非常適用機器學習應用的領域及其原因"
      ]
    },
    {
      "cell_type": "markdown",
      "metadata": {
        "id": "Rvjboa3xttjm",
        "colab_type": "text"
      },
      "source": [
        "## 作業\n",
        "請找出一個你認為機器學習可以發光發熱的領域並闡述原因? "
      ]
    },
    {
      "cell_type": "markdown",
      "metadata": {
        "id": "r3qHASk-vm-3",
        "colab_type": "text"
      },
      "source": [
        "   我覺得金融數據分析和醫療病例解析非常適合\n",
        "   原因是：\n",
        "   資料量都非常龐大,採用監督式學習,可以幫助人們判斷情形和解決誤判的問題\n",
        "   \n",
        "   金融：因為資訊太多不管是技術分析還是基本面分析 \n",
        "        外加上每日每週每月政府公布的數據等等太多需要掌控的資訊,\n",
        "        如果可以用機器學習來幫忙解析各類資訊,人人都可以很好理解 投資方向,\n",
        "        即便不是理專,也可以輕鬆判斷\n",
        "  \n",
        "   醫療：進入門檻太高,外加上人力不足,誤判的情況也很高\n",
        "        如果可以幫忙查看Ｘ光片,數據資料\n",
        "        我想可以大幅減低每一位醫護人員的看法分歧\n",
        "\n"
      ]
    }
  ]
}